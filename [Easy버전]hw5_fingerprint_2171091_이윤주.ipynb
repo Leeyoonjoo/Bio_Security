blurred_train = []
for img in tqdm(normalized_train, desc="Blurring Train Images"):
    blurred = cv2.GaussianBlur(img, (5,5), 0)
    blurred_train.append(blurred)

blurred_test = []
for img in tqdm(normalized_test, desc="Blurring Test Images"):
    blurred = cv2.GaussianBlur(img, (5,5), 0)
    blurred_test.append(blurred)
def unsharp_mask(image, kernel_size=(5, 5), sigma=1.0, amount=1.5, threshold=0):
    """
    Unsharp Mask 샤프닝 기법
    - image       : 그레이스케일 uint8 이미지
    - kernel_size : GaussianBlur에 사용할 커널 크기 (예: (5,5))
    - sigma       : GaussianBlur 표준편차
    - amount      : 강조 비율 (1.0 ~ 2.0 정도 권장)
    - threshold   : Low-contrast 픽셀 보호 임계값 (0이면 전체에 적용)
    """
    # 1) 입력 이미지를 float32로 변환
    img_float = image.astype(np.float32)

    # 2) 동일한 커널로 블러를 한 번 더 수행
    blurred = cv2.GaussianBlur(img_float, kernel_size, sigma)

    # 3) High-pass 성분 = 원본 - 블러
    high_pass = img_float - blurred

    # 4) 원본 + amount * High-pass = 샤프닝
    sharpened = img_float + amount * high_pass

    # 5) 픽셀 값 범위를 0~255로 클리핑 후 uint8 변환
    sharpened = np.clip(sharpened, 0, 255).astype(np.uint8)

    # 6) threshold가 0보다 크면, Low-contrast 픽셀은 원본 그대로 유지
    if threshold > 0:
        # 블러된 이미지(정수 uint8)와 비교해 차이가 작은 픽셀은 원본 유지
        diff = cv2.absdiff(image, blurred.astype(np.uint8))
        low_contrast_mask = diff < threshold
        sharpened[low_contrast_mask] = image[low_contrast_mask]

    return sharpened
sharpened_train = []
for img in tqdm(blurred_train, desc="Sharpening Train Images"):
    # kernel_size=(5,5), sigma=1.0, amount=1.5, threshold=0 으로 예시 설정
    sharp = unsharp_mask(img, kernel_size=(5,5), sigma=1.0, amount=1.5, threshold=0)
    sharpened_train.append(sharp)

sharpened_test = []
for img in tqdm(blurred_test, desc="Sharpening Test Images"):
    sharp = unsharp_mask(img, kernel_size=(5,5), sigma=1.0, amount=1.5, threshold=0)
    sharpened_test.append(sharp)
