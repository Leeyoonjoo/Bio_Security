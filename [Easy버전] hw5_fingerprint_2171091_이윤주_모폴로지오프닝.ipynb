# 모폴로지 오프닝에 사용할 커널 크기 (예: 3×3)
kernel_size = (3, 3)
kernel = cv2.getStructuringElement(cv2.MORPH_RECT, kernel_size)

min_area = 25

cleaned_train = []
for img_bin in tqdm(binary_train2, desc="Cleaning binary_train"):
    # (이미 img_bin이 0/255 이진 영상이라고 가정)

    # 2-1) 모폴로지 열기(Opening): 작은 흰 점(speckle) 제거
    opened = cv2.morphologyEx(img_bin, cv2.MORPH_OPEN, kernel, iterations=0)

    # 2-2) 연결 요소 라벨링 + 면적(stat) 얻기
    num_labels, labels, stats, _ = cv2.connectedComponentsWithStats(
        opened, connectivity=8
    )

    # 2-3) 새로운 빈 이미지 생성 (전부 검은색 0으로 초기화)
    cleaned = np.zeros_like(opened)

    # 2-4) 레이블별 면적을 확인하여, min_area 이상인 부분만 흰색(255)으로 유지
    for label in range(1, num_labels):  # 레이블 0은 배경이므로 건너뜀
        area = stats[label, cv2.CC_STAT_AREA]
        if area >= min_area:
            cleaned[labels == label] = 255

    cleaned_train.append(cleaned)
cleaned_train = []
for img_bin in tqdm(binary_train2, desc="Cleaning binary_train"):
    # (이미 img_bin이 0/255 이진 영상이라고 가정)

    # 2-1) 모폴로지 열기(Opening): 작은 흰 점(speckle) 제거
    opened = cv2.morphologyEx(img_bin, cv2.MORPH_OPEN, kernel, iterations=0)

    # 2-2) 연결 요소 라벨링 + 면적(stat) 얻기
    num_labels, labels, stats, _ = cv2.connectedComponentsWithStats(
        opened, connectivity=8
    )

    # 2-3) 새로운 빈 이미지 생성 (전부 검은색 0으로 초기화)
    cleaned = np.zeros_like(opened)

    # 2-4) 레이블별 면적을 확인하여, min_area 이상인 부분만 흰색(255)으로 유지
    for label in range(1, num_labels):  # 레이블 0은 배경이므로 건너뜀
        area = stats[label, cv2.CC_STAT_AREA]
        if area >= min_area:
            cleaned[labels == label] = 255

    cleaned_train.append(cleaned)
cleaned_test = []
for img_bin in tqdm(binary_test2, desc="Cleaning binary_test"):
    # 3-1) 모폴로지 열기
    opened = cv2.morphologyEx(img_bin, cv2.MORPH_OPEN, kernel, iterations=0)

    # 3-2) 연결 요소 라벨링 + 면적(stat) 얻기
    num_labels, labels, stats, _ = cv2.connectedComponentsWithStats(
        opened, connectivity=8
    )

    # 3-3) 새 빈 이미지 생성
    cleaned = np.zeros_like(opened)

    # 3-4) 면적 검사
    for label in range(1, num_labels):
        area = stats[label, cv2.CC_STAT_AREA]
        if area >= min_area:
            cleaned[labels == label] = 255

    cleaned_test.append(cleaned)
