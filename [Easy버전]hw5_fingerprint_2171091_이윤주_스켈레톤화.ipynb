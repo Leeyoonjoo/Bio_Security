def zhang_suen_thinning(binary_img):
    """
    Zhang–Suen thinning (skeletonization) algorithm 구현
    입력: binary_img - 0/255 이진 영상
    출력: 0/255 스켈레톤화된 영상
    """
    # 1. 0/255 → 0/1로 변환
    img = binary_img.copy()
    img[img > 0] = 1
    
    prev = np.zeros(img.shape, dtype=np.uint8)
    
    while True:
        # 단계 1
        m1 = np.zeros(img.shape, dtype=np.uint8)
        rows, cols = img.shape
        for i in range(1, rows - 1):
            for j in range(1, cols - 1):
                P1 = img[i, j]
                if P1 != 1:
                    continue
                # 8가지 이웃
                P2 = img[i-1, j]
                P3 = img[i-1, j+1]
                P4 = img[i, j+1]
                P5 = img[i+1, j+1]
                P6 = img[i+1, j]
                P7 = img[i+1, j-1]
                P8 = img[i, j-1]
                P9 = img[i-1, j-1]
                
                # (1) 2 ≤ N(P1) ≤ 6
                N = P2 + P3 + P4 + P5 + P6 + P7 + P8 + P9
                if N < 2 or N > 6:
                    continue
                
                # (2) S(P1) = 1
                neighbors = [P2, P3, P4, P5, P6, P7, P8, P9, P2]
                S = sum((neighbors[k] == 0 and neighbors[k+1] == 1) for k in range(8))
                if S != 1:
                    continue
                
                # (3) P2 * P4 * P6 = 0
                if P2 * P4 * P6 != 0:
                    continue
                # (4) P4 * P6 * P8 = 0
                if P4 * P6 * P8 != 0:
                    continue
                
                m1[i, j] = 1
        
        img = img & ~m1
        
        # 단계 2
        m2 = np.zeros(img.shape, dtype=np.uint8)
        for i in range(1, rows - 1):
            for j in range(1, cols - 1):
                P1 = img[i, j]
                if P1 != 1:
                    continue
                # 8가지 이웃
                P2 = img[i-1, j]
                P3 = img[i-1, j+1]
                P4 = img[i, j+1]
                P5 = img[i+1, j+1]
                P6 = img[i+1, j]
                P7 = img[i+1, j-1]
                P8 = img[i, j-1]
                P9 = img[i-1, j-1]
                
                # (1) 2 ≤ N(P1) ≤ 6
                N = P2 + P3 + P4 + P5 + P6 + P7 + P8 + P9
                if N < 2 or N > 6:
                    continue
                
                # (2) S(P1) = 1
                neighbors = [P2, P3, P4, P5, P6, P7, P8, P9, P2]
                S = sum((neighbors[k] == 0 and neighbors[k+1] == 1) for k in range(8))
                if S != 1:
                    continue
                
                # (3) P2 * P4 * P8 = 0
                if P2 * P4 * P8 != 0:
                    continue
                # (4) P2 * P6 * P8 = 0
                if P2 * P6 * P8 != 0:
                    continue
                
                m2[i, j] = 1
        
        img = img & ~m2
        
        # 변화가 없으면 종료
        diff = np.abs(img - prev)
        if np.sum(diff) == 0:
            break
        prev = img.copy()
    
    # 0/1 → 0/255로 복원
    img *= 255
    return img
skeleton_train1 = []
skeleton_test1  = []

# 2) cleaned_train 리스트의 모든 이미지에 대해 Zhang–Suen thinning 적용
for img_bin in tqdm(cleaned_train, desc="Zhang–Suen Thinning (train)"):
    skel = zhang_suen_thinning(img_bin)
    skeleton_train1.append(skel)

# 3) cleaned_test 리스트의 모든 이미지에 대해 Zhang–Suen thinning 적용
for img_bin in tqdm(cleaned_test, desc="Zhang–Suen Thinning (test)"):
    skel = zhang_suen_thinning(img_bin)
    skeleton_test1.append(skel)

