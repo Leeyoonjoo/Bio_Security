import os
import numpy as np
import cv2
from os.path import join
import glob
import matplotlib.pyplot as plt
import skimage
import time
import math
from tqdm import tqdm

train_img_paths=glob.glob('./train/train_ref/*.BMP')
test2_img_paths=glob.glob('./test2/*.BMP')

# 원본 이미지 로드
img_train_list = []
for path in tqdm(train_img_paths, desc="Loading Train Images"):
    img = cv2.imread(path, cv2.IMREAD_GRAYSCALE)
    img_train_list.append(img)

img_test_list = []
for path in tqdm(test2_img_paths, desc="Loading Test Images"):
    img = cv2.imread(path, cv2.IMREAD_GRAYSCALE)
    img_test_list.append(img)

print(f"Loaded {len(img_train_list)} train images, {len(img_test_list)} test images.")

# === CLAHE 객체 생성 (한 번만 만들어 두고 재사용) ===
clahe = cv2.createCLAHE(clipLimit=2.0, tileGridSize=(8,8))

# ============================ 노이즈제거 & 대비향상 + 정규화 ================================
normalized_train = []
for img in tqdm(img_train_list, desc="Normalizing Train Images"):
    # 1) 간단한 노이즈 제거: 메디안 블러 (kernel size = 3)
    img_denoised = cv2.medianBlur(img, 3)

    # 2) 대비 향상 (여기서는 CLAHE 예시)
    #    └ CLAHE를 적용하려면 입력 영상이 uint8 그레이스케일이어야 합니다.
    img_ce = clahe.apply(img_denoised)
    # 만약 전역 히스토그램 평활화를 사용하려면 아래처럼 바꿔 줍니다.
    # img_ce = cv2.equalizeHist(img_denoised)

    # 3) float32 타입으로 변환 후 평균/표준편차 정규화
    img_f = img_ce.astype(np.float32)
    mean, std = cv2.meanStdDev(img_f)
    # std가 0이 되면 나눗셈 에러가 발생하므로 최소값 1.0으로 보정
    std = std if std > 0 else 1.0
    img_norm = (img_f - mean) / std   # 평균을 빼고 표준편차로 나눈 결과

    # 4) 정규화 결과를 0~255 구간으로 재스케일링
    img_norm_scaled = cv2.normalize(img_norm, None, 0, 255, cv2.NORM_MINMAX)

    # 5) 다시 uint8로 변환해서 리스트에 추가
    normalized_train.append(img_norm_scaled.astype(np.uint8))


normalized_test = []
for img in tqdm(img_test_list, desc="Normalizing Test Images"):
    # 1) 메디안 블러
    img_denoised = cv2.medianBlur(img, 3)

    # 2) CLAHE 혹은 히스토그램 평활화
    img_ce = clahe.apply(img_denoised)
    # img_ce = cv2.equalizeHist(img_denoised)

    # 3) 평균/표준편차 정규화
    img_f = img_ce.astype(np.float32)
    mean, std = cv2.meanStdDev(img_f)
    std = std if std > 0 else 1.0
    img_norm = (img_f - mean) / std

    # 4) 0~255 재스케일링
    img_norm_scaled = cv2.normalize(img_norm, None, 0, 255, cv2.NORM_MINMAX)

    normalized_test.append(img_norm_scaled.astype(np.uint8))
    normalized_test.append(img_norm_scaled.astype(np.uint8))


