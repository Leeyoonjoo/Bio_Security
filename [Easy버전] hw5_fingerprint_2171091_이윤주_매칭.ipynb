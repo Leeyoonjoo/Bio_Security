def match_score(minutiae_a, minutiae_b, radius=5):
    """
    두 지문 Minutiae 집합을 비교하여 매칭 점수를 계산합니다.
    minutiae_a, minutiae_b: (eps, bps) 튜플
      eps = [(y, x), …], bps = [(y, x), …]
    radius: 같은 Minutia로 간주할 최대 거리(픽셀)
    Returns: (score_ep, score_bp, total)
    """
    eps_a, bps_a = minutiae_a
    eps_b, bps_b = minutiae_b

    def count_matches(list1, list2):
        if not list1 or not list2:
            return 0
        arr1 = np.array(list1, dtype=np.int32)
        arr2 = np.array(list2, dtype=np.int32)
        match_count = 0
        r2 = radius * radius
        for (y1, x1) in arr1:
            dy = arr2[:, 0] - y1
            dx = arr2[:, 1] - x1
            d2 = dy * dy + dx * dx
            if np.min(d2) <= r2:
                match_count += 1
        return match_count

    score_ep = count_matches(eps_a, eps_b)
    score_bp = count_matches(bps_a, bps_b)
    total = score_ep + score_bp
    return score_ep, score_bp, total

matches = []  # [(test_idx, best_train_idx, total_score, ep_score, bp_score), …]
RADIUS = 5

for ti, test_min in enumerate(tqdm(minutiae_test, desc="Matching Test→Train")):
    best_score = -1
    best_train_idx = -1
    best_ep = 0
    best_bp = 0

    for tj, train_min in enumerate(minutiae_train):
        score_ep, score_bp, total = match_score(test_min, train_min, radius=RADIUS)
        if total > best_score:
            best_score = total
            best_train_idx = tj
            best_ep = score_ep
            best_bp = score_bp

    matches.append((ti, best_train_idx, best_score, best_ep, best_bp))
def visualize_match_simple(train_img, test_img, eps_tr, bps_tr, eps_te, bps_te, radius=5):
    """
    Train/​Test 이미지를 나란히 붙이고, matched minutiae를 노란색 선으로 연결하여 보여 줍니다.
    
    Args:
      train_img : 2D numpy array (grayscale)  → Train 이미지 픽셀 데이터
      test_img  : 2D numpy array (grayscale)  → Test  이미지 픽셀 데이터
      eps_tr, bps_tr : Train 이미지의 종단점/분기점 좌표 리스트 [(y, x), …]
      eps_te, bps_te : Test  이미지의 종단점/분기점 좌표 리스트 [(y, x), …]
      radius    : 같은 Minutia로 간주할 최대 거리(픽셀) (default=5)
    """
    h1, w1 = train_img.shape
    h2, w2 = test_img.shape
    H = max(h1, h2)
    W = w1 + w2

    # 1) 빈 캔버스 생성 후, 왼쪽에 Train, 오른쪽에 Test 이미지 복사
    canvas = np.zeros((H, W), dtype=np.uint8)
    canvas[0:h1,      0:w1]     = train_img
    canvas[0:h2, w1:w1+w2] = test_img

    plt.figure(figsize=(12, 6))
    plt.imshow(canvas, cmap='gray')
    plt.axis('off')

    # 2) 종단점(Endpoints) 매칭: 거리 <= radius라면 노란 선으로 연결
    for (y_t, x_t) in eps_tr:
        for (y_e, x_e) in eps_te:
            if (y_t - y_e)**2 + (x_t - x_e)**2 <= radius**2:
                plt.plot([x_t, x_e + w1], [y_t, y_e], color='yellow', linewidth=1)

    # 3) 분기점(Bifurcations) 매칭: 동일 방식
    for (y_t, x_t) in bps_tr:
        for (y_e, x_e) in bps_te:
            if (y_t - y_e)**2 + (x_t - x_e)**2 <= radius**2:
                plt.plot([x_t, x_e + w1], [y_t, y_e], color='yellow', linewidth=1)

    # 4) Train 쪽 Minutiae(Endpoints=빨간 ●, Bifurcations=파란 ●) 표시
    if eps_tr:
        y_ep_tr, x_ep_tr = zip(*eps_tr)
        plt.scatter(x_ep_tr, y_ep_tr, s=20, c='red', marker='o', label='EP_train')
    if bps_tr:
        y_bp_tr, x_bp_tr = zip(*bps_tr)
        plt.scatter(x_bp_tr, y_bp_tr, s=20, c='blue', marker='o', label='BP_train')

    # 5) Test  쪽 Minutiae(Endpoints=빨간 X, 분기=파란 X) 표시 (x를 w1만큼 shift)
    if eps_te:
        y_ep_te, x_ep_te = zip(*eps_te)
        plt.scatter([x + w1 for x in x_ep_te], y_ep_te, s=20, c='red', marker='x', label='EP_test')
    if bps_te:
        y_bp_te, x_bp_te = zip(*bps_te)
        plt.scatter([x + w1 for x in x_bp_te], y_bp_te, s=20, c='blue', marker='x', label='BP_test')

    plt.legend(loc='lower right')
    plt.title("Matching Visualization: Train (left) & Test (right)")
    plt.show()
target_name = '1_type3.BMP'
idx = None
for i, path in enumerate(test2_img_paths):  
    if os.path.basename(path) == target_name:
        idx = i
        break

if idx is None:
    raise ValueError(f"'{target_name}' 파일을 test2_img_paths에서 찾을 수 없습니다.")


ti, tj, tot, ep_c, bp_c = matches[idx]
test_name = test2_img_paths[ti].split("/")[-1]
eps_te, bps_te = minutiae_test[ti]
total_test_minutiae = len(eps_te) + len(bps_te)
if total_test_minutiae == 0:
    perc = 0.0
else:
    perc = tot / total_test_minutiae * 100.0


if tj < 0:
    print(f"{test_name}  →  (매칭 실패) (Matched={tot:3d}/{total_test_minutiae:3d})  ({perc:5.1f}%)")
else:
    train_name = train_img_paths[tj].split("/")[-1]
    print(f"{test_name}  →  {train_name}  (Total={tot}, EP={ep_c}, BP={bp_c}, Matched={tot:3d}/{total_test_minutiae:3d},Similarity={perc:5.1f}%)")

    
    train_img = img_train_list[tj]    # 이미 gray 로드된 numpy 2D 배열
    test_img  = img_test_list[ti]     # 이미 gray 로드된 numpy 2D 배열
    
    eps_tr, bps_tr = minutiae_train[tj]
    eps_te, bps_te = minutiae_test[ti]
    
    visualize_match_simple(
        train_img = train_img,
        test_img  = test_img,
        eps_tr    = eps_tr,
        bps_tr    = bps_tr,
        eps_te    = eps_te,
        bps_te    = bps_te,
        radius    = 5
    )


