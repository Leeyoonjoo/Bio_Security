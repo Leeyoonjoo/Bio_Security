adaptive_params = {
    "maxValue"       : 255,
    "adaptiveMethod" : cv2.ADAPTIVE_THRESH_GAUSSIAN_C,  # Gaussian-weighted 평균
    # "adaptiveMethod" : cv2.ADAPTIVE_THRESH_MEAN_C,     # 단순 평균으로 해보고 싶다면 이걸 사용
    "thresholdType"  : cv2.THRESH_BINARY_INV,           # 리지는 흰색, 배경은 검은색으로
    # "thresholdType"  : cv2.THRESH_BINARY,             # 리지를 검은색, 배경을 흰색으로 바꾸고 싶으면 이걸 사용
    "blockSize"      : 15,  # 홀수, 보통 11~25 사이에서 실험
    "C"              : 2    # 보정 값 (긍정적일수록 배경이 더 많이 흰색 → 리지만 검은색)
}
binary_train1 = []
for img in tqdm(blurred_train, desc="Binarizing Train Images"):
    binary = cv2.adaptiveThreshold(
        img,
        maxValue       = adaptive_params["maxValue"],
        adaptiveMethod = adaptive_params["adaptiveMethod"],
        thresholdType  = adaptive_params["thresholdType"],
        blockSize      = adaptive_params["blockSize"],
        C              = adaptive_params["C"]
    )
    binary_train1.append(binary)

binary_test1 = []
for img in tqdm(blurred_test, desc="Binarizing Test Images"):
    binary = cv2.adaptiveThreshold(
        img,
        maxValue       = adaptive_params["maxValue"],
        adaptiveMethod = adaptive_params["adaptiveMethod"],
        thresholdType  = adaptive_params["thresholdType"],
        blockSize      = adaptive_params["blockSize"],
        C              = adaptive_params["C"]
    )
    binary_test1.append(binary)
binary_train2 = []
for img in tqdm(sharpened_train, desc="Binarizing Train Images"):
    binary = cv2.adaptiveThreshold(
        img,
        maxValue       = adaptive_params["maxValue"],
        adaptiveMethod = adaptive_params["adaptiveMethod"],
        thresholdType  = adaptive_params["thresholdType"],
        blockSize      = adaptive_params["blockSize"],
        C              = adaptive_params["C"]
    )
    binary_train2.append(binary)

binary_test2 = []
for img in tqdm(sharpened_test, desc="Binarizing Test Images"):
    binary = cv2.adaptiveThreshold(
        img,
        maxValue       = adaptive_params["maxValue"],
        adaptiveMethod = adaptive_params["adaptiveMethod"],
        thresholdType  = adaptive_params["thresholdType"],
        blockSize      = adaptive_params["blockSize"],
        C              = adaptive_params["C"]
    )
    binary_test2.append(binary)
