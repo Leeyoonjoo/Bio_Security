def extract_minutiae_precise_ignore_image_border(skel_img, margin=2):
    """
    Transition(0→1 전환) 기반 종단점/분기점 추출. 
    추가로, 이미지 모서리(margin 이내)에 붙어 있는 endpoint는 모두 제외.
    
    Args:
      skel_img: 0/255 이진 스켈레톤 이미지 (numpy 2D array)
      margin: 이미지 테두리로부터 몇 픽셀 안쪽까지 '무조건 제외'할지 결정 (default=2)
    
    Returns:
      endpoints: [(y, x), ...]
      bifurcations: [(y, x), ...]
    """
    # 1) 0/255 → 0/1
    skel_bin = (skel_img > 0).astype(np.uint8)
    
    # 2) 3×3 이웃 합 커널 (단순 neighbor count; transition은 아래에서 별도 계산)
    kernel = np.array([[1,1,1],
                       [1,0,1],
                       [1,1,1]], dtype=np.uint8)
    neighbor_count = cv2.filter2D(skel_bin, ddepth=cv2.CV_8U, 
                                  kernel=kernel, borderType=cv2.BORDER_CONSTANT)
    
    rows, cols = skel_bin.shape
    endpoints = []
    bifurcations = []
    
    # 3) 8방향 이웃 픽셀을 반환하는 헬퍼
    def get_neighbors(y, x):
        return [
            skel_bin[y-1, x],   # P2
            skel_bin[y-1, x+1], # P3
            skel_bin[y,   x+1], # P4
            skel_bin[y+1, x+1], # P5
            skel_bin[y+1, x],   # P6
            skel_bin[y+1, x-1], # P7
            skel_bin[y,   x-1], # P8
            skel_bin[y-1, x-1], # P9
        ]
    
    # 4) neighbors 리스트에서 블록 순환하며 0→1 전환 횟수를 계산
    def count_transitions(neighbors):
        seq = neighbors + [neighbors[0]]
        cnt = 0
        for i in range(len(neighbors)):
            if seq[i] == 0 and seq[i+1] == 1:
                cnt += 1
        return cnt
    
    # 5) 내부 픽셀(1..rows-2, 1..cols-2)만 순회
    #    추가로, (y,x) 가 '이미지 모서리 margin 이내인지' 체크
    for y in range(1, rows-1):
        for x in range(1, cols-1):
            if skel_bin[y, x] != 1:
                continue
            
            n_count = neighbor_count[y, x]
            if n_count == 0:
                continue
            
            nb = get_neighbors(y, x)
            t_count = count_transitions(nb)
            
            # (1) Endpoint: neighbor_count=1 AND transition=1
            if n_count == 1 and t_count == 1:
                # 이미지 모서리 margin 이내에 있으면 제외
                if y < margin or y >= rows - margin or x < margin or x >= cols - margin:
                    continue
                endpoints.append((y, x))
                continue
            
            # (2) Bifurcation: transition = 3  (이미지 경계 여부 관계없이 모두 허용)
            if t_count == 3:
                bifurcations.append((y, x))
                continue
    
    return endpoints, bifurcations
def visualize_minutiae(skel_img, endpoints, bifurcations, figsize=(6, 6)):
    """
    스켈레톤 이미지 위에 종단점(endpoints)을 빨간 점, 분기점(bifurcations)을 파란 점으로 표시합니다.
    """
    plt.figure(figsize=figsize)
    plt.imshow(skel_img, cmap='gray')
    plt.axis('off')
    
    # endpoints: 빨간색 ●
    if len(endpoints) > 0:
        ep_y, ep_x = zip(*endpoints)
        plt.scatter(ep_x, ep_y, s=5, c='red', marker='o', label='Endpoint')
    
    # bifurcations: 파란색 ●
    if len(bifurcations) > 0:
        bp_y, bp_x = zip(*bifurcations)
        plt.scatter(bp_x, bp_y, s=5, c='blue', marker='o', label='Bifurcation')
    
    plt.legend(loc='lower right')
    plt.title("Skeleton with Minutiae (Endpoints=red, Bifurcations=blue)")
    plt.show()

minutiae_train = [] # [(endpoints, bifurcations), ...]
for skel_img in tqdm(skeleton_train1, desc="Extract Minutiae (train)"):
    eps, bps = extract_minutiae_precise_ignore_image_border(skel_img, margin=2)
    minutiae_train.append((eps, bps))

minutiae_test = []
for skel_img in tqdm(skeleton_test1, desc="Extract Minutiae (test)"):
    eps, bps = extract_minutiae_precise_ignore_image_border(skel_img, margin=2)
    minutiae_test.append((eps, bps))



